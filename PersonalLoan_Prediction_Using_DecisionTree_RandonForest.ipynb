{
  "nbformat": 4,
  "nbformat_minor": 0,
  "metadata": {
    "colab": {
      "name": "PersonalLoan_Prediction_Using_DecisionTree_RandonForest.ipynb",
      "private_outputs": true,
      "provenance": [],
      "collapsed_sections": [],
      "authorship_tag": "ABX9TyMwxZcM+nhDZ+aNsDSJbqIP",
      "include_colab_link": true
    },
    "kernelspec": {
      "name": "python3",
      "display_name": "Python 3"
    }
  },
  "cells": [
    {
      "cell_type": "markdown",
      "metadata": {
        "id": "view-in-github",
        "colab_type": "text"
      },
      "source": [
        "<a href=\"https://colab.research.google.com/github/PreethikaShankar/ML_Algorithms/blob/main/PersonalLoan_Prediction_Using_DecisionTree_RandonForest.ipynb\" target=\"_parent\"><img src=\"https://colab.research.google.com/assets/colab-badge.svg\" alt=\"Open In Colab\"/></a>"
      ]
    },
    {
      "cell_type": "code",
      "metadata": {
        "id": "qTjtoICZdHob"
      },
      "source": [
        "import numpy as np                                                 # Implemennts milti-dimensional array and matrices\n",
        "import pandas as pd                                                # For data manipulation and analysis\n",
        "import pandas_profiling\n",
        "import matplotlib.pyplot as plt                                    # Plotting library for Python programming language and it's numerical mathematics extension NumPy\n",
        "import seaborn as sns                                              # Provides a high level interface for drawing attractive and informative statistical graphics\n",
        "%matplotlib inline\n",
        "sns.set()\n",
        "\n",
        "from subprocess import check_output"
      ],
      "execution_count": null,
      "outputs": []
    },
    {
      "cell_type": "code",
      "metadata": {
        "id": "i9B2_3udeO7n"
      },
      "source": [
        "df = pd.read_csv(\"https://raw.githubusercontent.com/insaid2018/CDF-Certification-Quiz-Data/master/Bank1/02-Data.csv\")  "
      ],
      "execution_count": null,
      "outputs": []
    },
    {
      "cell_type": "code",
      "metadata": {
        "id": "U7Xojm8BeqkC"
      },
      "source": [
        "df.isnull().sum()"
      ],
      "execution_count": null,
      "outputs": []
    },
    {
      "cell_type": "code",
      "metadata": {
        "id": "XZGfH3aUes1u"
      },
      "source": [
        "df.shape"
      ],
      "execution_count": null,
      "outputs": []
    },
    {
      "cell_type": "code",
      "metadata": {
        "id": "hQ5UbIJwewVC"
      },
      "source": [
        "df.head()"
      ],
      "execution_count": null,
      "outputs": []
    },
    {
      "cell_type": "code",
      "metadata": {
        "id": "5ZvjpHdvhUP6"
      },
      "source": [
        "df.info()"
      ],
      "execution_count": null,
      "outputs": []
    },
    {
      "cell_type": "code",
      "metadata": {
        "id": "-saOMV-yh-8m"
      },
      "source": [
        "X = df.loc[:,df.columns != 'Personal Loan']\n",
        "X.head()"
      ],
      "execution_count": null,
      "outputs": []
    },
    {
      "cell_type": "code",
      "metadata": {
        "id": "ufetneLnzBx9"
      },
      "source": [
        "feature_cols = ['Personal Loan']  \n",
        "y = df[feature_cols] \n",
        "y.head()"
      ],
      "execution_count": null,
      "outputs": []
    },
    {
      "cell_type": "code",
      "metadata": {
        "id": "Qjuhhlbo0rcS"
      },
      "source": [
        "print(type(X))\n",
        "print(X.shape)\n",
        "\n",
        "print(type(y))\n",
        "print(y.shape)"
      ],
      "execution_count": null,
      "outputs": []
    },
    {
      "cell_type": "code",
      "metadata": {
        "id": "6vR4IoGl2RUj"
      },
      "source": [
        "from sklearn.model_selection import train_test_split\n",
        "X_train, X_test, y_train, y_test = train_test_split(X, y, test_size=0.30)"
      ],
      "execution_count": null,
      "outputs": []
    },
    {
      "cell_type": "code",
      "metadata": {
        "id": "LmjYzSvk08nP"
      },
      "source": [
        "from sklearn import tree\n",
        "model_DT = tree.DecisionTreeClassifier(random_state = 2018)\n",
        "model_DT.fit(X_train, y_train)"
      ],
      "execution_count": null,
      "outputs": []
    },
    {
      "cell_type": "code",
      "metadata": {
        "id": "ncH_vClTB-Hc"
      },
      "source": [
        "from sklearn.ensemble import RandomForestClassifier\n",
        "model_RF = RandomForestClassifier(random_state = 2019)\n",
        "model_RF.fit(X_train, y_train)"
      ],
      "execution_count": null,
      "outputs": []
    },
    {
      "cell_type": "code",
      "metadata": {
        "id": "Q7uC5_dECK_R"
      },
      "source": [
        "y_pred_train = model_DT.predict(X_train) \n",
        "y_pred_test = model_DT.predict(X_test) \n",
        "\n",
        "from sklearn.metrics import accuracy_score\n",
        "print('Accuracy score for train data using Decision_Tree is:', accuracy_score(y_train,y_pred_train))\n",
        "print('Accuracy score for test data using Decision_Tree is:', accuracy_score(y_test,y_pred_test))\n",
        "\n",
        "from sklearn.metrics import confusion_matrix\n",
        "\n",
        "confusion_matrix = pd.DataFrame(confusion_matrix(y_test, y_pred_test))\n",
        "\n",
        "confusion_matrix.index = ['PL_Rejected','PL_Accepted']\n",
        "confusion_matrix.columns = ['Predicted PL_Rejected','Predicted PL_Accepted']\n",
        "print(confusion_matrix)\n",
        "\n",
        "from sklearn.metrics import classification_report\n",
        "print(classification_report(y_test, y_pred_test))"
      ],
      "execution_count": null,
      "outputs": []
    },
    {
      "cell_type": "code",
      "metadata": {
        "id": "T0MdfdhgDwEI"
      },
      "source": [
        "y_pred_train = model_RF.predict(X_train) \n",
        "y_pred_test = model_RF.predict(X_test) \n",
        "\n",
        "from sklearn.metrics import accuracy_score\n",
        "print('Accuracy score for train data using Decision_Tree is:', accuracy_score(y_train,y_pred_train))\n",
        "print('Accuracy score for test data using Decision_Tree is:', accuracy_score(y_test,y_pred_test))\n",
        "\n",
        "from sklearn.metrics import confusion_matrix\n",
        "\n",
        "confusion_matrix = pd.DataFrame(confusion_matrix(y_test, y_pred_test))\n",
        "\n",
        "confusion_matrix.index = ['PL_Rejected','PL_Accepted']\n",
        "confusion_matrix.columns = ['Predicted PL_Rejected','Predicted PL_Accepted']\n",
        "print(confusion_matrix)\n",
        "\n",
        "from sklearn.metrics import classification_report\n",
        "print(classification_report(y_test, y_pred_test))"
      ],
      "execution_count": null,
      "outputs": []
    },
    {
      "cell_type": "code",
      "metadata": {
        "id": "00r5uwMtAE8m"
      },
      "source": [
        "from pycaret.classification import *"
      ],
      "execution_count": null,
      "outputs": []
    },
    {
      "cell_type": "code",
      "metadata": {
        "id": "nvrjtGHPAJMJ"
      },
      "source": [
        "clf = setup(data = df, target = 'Personal Loan' )"
      ],
      "execution_count": null,
      "outputs": []
    },
    {
      "cell_type": "code",
      "metadata": {
        "id": "sQOpwB8uXaSR"
      },
      "source": [
        "best_model = compare_models()"
      ],
      "execution_count": null,
      "outputs": []
    },
    {
      "cell_type": "code",
      "metadata": {
        "id": "fvUR-PrbXfyr"
      },
      "source": [
        "# models()\n",
        "#CLight Gradient Boosting Machine\n",
        "rf = create_model('rf')"
      ],
      "execution_count": null,
      "outputs": []
    },
    {
      "cell_type": "code",
      "metadata": {
        "id": "6TOHt1xnXjRk"
      },
      "source": [
        "tuned_rf = tune_model(rf)"
      ],
      "execution_count": null,
      "outputs": []
    },
    {
      "cell_type": "code",
      "metadata": {
        "id": "CX6NJtj6Xtr1"
      },
      "source": [
        "# AUC Plot\n",
        "\n",
        "plot_model(tuned_rf, plot = 'auc')"
      ],
      "execution_count": null,
      "outputs": []
    },
    {
      "cell_type": "code",
      "metadata": {
        "id": "osgM2JOYXv49"
      },
      "source": [
        "# Feature Importance Plot\n",
        "plot_model(rf, plot='feature')"
      ],
      "execution_count": null,
      "outputs": []
    },
    {
      "cell_type": "code",
      "metadata": {
        "id": "J_r_7CyaXx5c"
      },
      "source": [
        ""
      ],
      "execution_count": null,
      "outputs": []
    }
  ]
}