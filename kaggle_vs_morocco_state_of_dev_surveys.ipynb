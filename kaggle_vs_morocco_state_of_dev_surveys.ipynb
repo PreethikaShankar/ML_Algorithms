{
  "nbformat": 4,
  "nbformat_minor": 0,
  "metadata": {
    "colab": {
      "name": "kaggle-vs-morocco-state-of-dev-surveys.ipynb",
      "private_outputs": true,
      "provenance": [],
      "collapsed_sections": [],
      "authorship_tag": "ABX9TyMhFbAF9XHNJf8Umzi1hnh8",
      "include_colab_link": true
    },
    "kernelspec": {
      "name": "python3",
      "display_name": "Python 3"
    }
  },
  "cells": [
    {
      "cell_type": "markdown",
      "metadata": {
        "id": "view-in-github",
        "colab_type": "text"
      },
      "source": [
        "<a href=\"https://colab.research.google.com/github/PreethikaShankar/ML_Algorithms/blob/main/kaggle_vs_morocco_state_of_dev_surveys.ipynb\" target=\"_parent\"><img src=\"https://colab.research.google.com/assets/colab-badge.svg\" alt=\"Open In Colab\"/></a>"
      ]
    },
    {
      "cell_type": "markdown",
      "metadata": {
        "id": "aDiv1LjRfIry"
      },
      "source": [
        "Courtesy - https://www.kaggle.com/amr009/kaggle-vs-morocco-state-of-dev-surveys"
      ]
    },
    {
      "cell_type": "code",
      "metadata": {
        "id": "knGgH1hEfGbM"
      },
      "source": [
        "import numpy as np \n",
        "import pandas as pd\n",
        "import plotly.io as pio\n",
        "import plotly.express as px\n",
        "from plotly.subplots import make_subplots\n",
        "from IPython.display import Markdown, display\n",
        "import plotly.express as px\n",
        "import plotly.graph_objects as go\n",
        "import warnings\n",
        "\n",
        "warnings.filterwarnings(\"ignore\")\n",
        "pio.templates.default = \"presentation\"\n",
        "\n",
        "def content(text):\n",
        "    \"\"\" This function allows you to output content in a common styling \"\"\"\n",
        "    \n",
        "    my_response = \"<div  style= 'background-color:rgb(247, 247, 247); border:1px solid rgb(207,207,207); border-color:rgb(107,107,107); padding: 10px'> \\\n",
        "    <span style='color: black;  font-family: medium-content-serif-font, Georgia, Cambria, 'Times New Roman', Times, serif; \\\n",
        "    font-weight: 400; letter-spacing: -0.004em; line-height: 1.58; '>\"+ text + \"</span></div>\"\n",
        "    display(Markdown(my_response))"
      ],
      "execution_count": null,
      "outputs": []
    },
    {
      "cell_type": "markdown",
      "metadata": {
        "id": "oZbYSvCFfctu"
      },
      "source": [
        "__About the State of Dev survey:__<br>\n",
        "The State of Dev survey is an initiative by the developer circles Morocco community to collect the feedback of software devlopers in Morocco :morocco: about how to move the IT community forward, and better respond to developers’ evolving need?\n",
        "\n",
        "This Survey was composed of 49 questions grouped into 4 main areas: Education, Work, Tech and Community. It was launched October 2020 at BlaBlaConf 1.0 an online conference that gathered thousands of viewers during 5 days, and remained open for a full month window.\n",
        "\n",
        "A a total of 2287 submissions were received. That's from Morocco only and it's close to the 2532 submissions from Stackoverflow's first survey back in 2011. It’s important to note that not all fields were mandatory, so the results and graphics may not reflect the respondents’ total number for every question.\n",
        "\n",
        "As part of the developer circles Morocco community core principles, all collected data is anonymized. Raw results are also available under the BY-NC-SA 2.0 license. Same thing for the website code, we put everything on DevC-Casa GitHub organization."
      ]
    },
    {
      "cell_type": "markdown",
      "metadata": {
        "id": "xdyoiHC8fkrf"
      },
      "source": [
        "__Notebook Highlights:__<br>\n",
        "This notebook provides a begginer's friendly EDA that focuces on comparing the answers provided by Moroccan members to the Kaggle 2020 survey and those who answred the State of Dev.\n",
        "\n",
        "Both surveys cover many areas in common, but with different design of questions and possibles answers.\n",
        "\n",
        "The State of Dev syrvey has collected (~17x) more answers than the Kaggle survey from Moroccan memebers.\n",
        "The participants are young: ~50% are less than 25 years.\n",
        "Students are the common driving force in both surveys with ~30%.\n",
        "The reported salary range from Data profiles is silghtly better than the general Moroccan IT field."
      ]
    },
    {
      "cell_type": "markdown",
      "metadata": {
        "id": "h59yJfqOfstK"
      },
      "source": [
        "###Read SOD and Kaggle Data:"
      ]
    },
    {
      "cell_type": "code",
      "metadata": {
        "id": "4eMDnS6KfySW"
      },
      "source": [
        "SOD_Morocco_Full = pd.read_csv(r\"https://raw.githubusercontent.com/PreethikaShankar/ML_Algorithms/main/kaggle-vs-morocco-state-of-dev-surveys/results_preprocessed.csv\")\n",
        "SOD_Morocco_Qst = pd.read_csv(r\"https://raw.githubusercontent.com/PreethikaShankar/ML_Algorithms/main/kaggle-vs-morocco-state-of-dev-surveys/questions_preprocessed.csv\").set_index('Keys')\n",
        "Kaggle_Full = pd.read_csv(r\"https://raw.githubusercontent.com/PreethikaShankar/ML_Algorithms/main/kaggle-vs-morocco-state-of-dev-surveys/kaggle_survey_2020_responses.csv\")"
      ],
      "execution_count": null,
      "outputs": []
    },
    {
      "cell_type": "code",
      "metadata": {
        "id": "6rOmlsJFsgm5"
      },
      "source": [
        "Kaggle_Full.head()"
      ],
      "execution_count": null,
      "outputs": []
    },
    {
      "cell_type": "markdown",
      "metadata": {
        "id": "qqLO33ThuZzc"
      },
      "source": [
        "Renaming some Kaggle Data columns and Filtering for Moroccan participants:"
      ]
    },
    {
      "cell_type": "code",
      "metadata": {
        "id": "QxC_C2kNubWd"
      },
      "source": [
        "Kaggle_Full = Kaggle_Full.rename(columns={\n",
        "    \"Time from Start to Finish (seconds)\":\"Time\",\n",
        "    \"Q1\":\"Age\",\n",
        "    \"Q2\":\"Gender\",\n",
        "    \"Q2_OTHER_TEXT\":\"Gender_Text\",\n",
        "    \"Q3\":\"Country\",\n",
        "    \"Q4\":\"Education\",\n",
        "    \"Q5\":\"Job_Title\",\n",
        "    \"Q6\":\"Coding_Experience\"})\n",
        "\n",
        "Kaggle_Full_Morocco = Kaggle_Full[Kaggle_Full.Country == \"Morocco\"]\n",
        "Kaggle_Full_Morocco.head()"
      ],
      "execution_count": null,
      "outputs": []
    },
    {
      "cell_type": "markdown",
      "metadata": {
        "id": "ZdxsILcfugGf"
      },
      "source": [
        "__Number of Participants:__<br>\n",
        "Let's start by taking a look at the size sampled by each survey"
      ]
    },
    {
      "cell_type": "code",
      "metadata": {
        "id": "4qDSGaJaulae"
      },
      "source": [
        "fig = px.bar(y = [Kaggle_Full_Morocco.shape[0], SOD_Morocco_Full.shape[0]],\n",
        "             x = [\"Kaggle\", \"SOD_Full\"])\n",
        "\n",
        "fig.update_layout(\n",
        "    title = \"Count of Survey Participants\",\n",
        "    yaxis_title = \"Participants\",\n",
        "    xaxis_title = \"Community\")"
      ],
      "execution_count": null,
      "outputs": []
    },
    {
      "cell_type": "markdown",
      "metadata": {
        "id": "MRcbPF3dutlU"
      },
      "source": [
        "The State of Dev syrvey has collected (~17x) more answers than the Kaggle survey from Moroccan memebers. Two factors help explain this: - The SOD survey was designed to include more different disciplines than just data related ones - The SOD survey had a better reach across the Moroccan community and benefited from it's local target nature, whilst the Kaggle survey was a worldwide campaign."
      ]
    },
    {
      "cell_type": "markdown",
      "metadata": {
        "id": "bGHCZzeYuv9C"
      },
      "source": [
        "__Let's try applying a filter selecting only the SOD participants with Job titles closely related to the fields of Data Science and ML__"
      ]
    },
    {
      "cell_type": "code",
      "metadata": {
        "id": "B9NBVNNKvCCc"
      },
      "source": [
        "SOD_Morocco_Qst.Job_Title[\"choices\"]"
      ],
      "execution_count": null,
      "outputs": []
    },
    {
      "cell_type": "code",
      "metadata": {
        "id": "Etg2sVjcvEQQ"
      },
      "source": [
        "SOD_Morocco_Data = SOD_Morocco_Full[SOD_Morocco_Full.Job_Title.isin(['Data or business analyst',\n",
        "                                 'Data scientist or machine learning specialist',\n",
        "                                 'Engineer, data'])]\n",
        "SOD_Morocco_Data.head()"
      ],
      "execution_count": null,
      "outputs": []
    },
    {
      "cell_type": "code",
      "metadata": {
        "id": "Gl2a6c-VvIhB"
      },
      "source": [
        "fig = px.bar(y = [Kaggle_Full_Morocco.shape[0], SOD_Morocco_Data.shape[0]],\n",
        "             x = [\"Kaggle\", \"SOD\"])\n",
        "\n",
        "fig.update_layout(\n",
        "    title = \"Count of Survey Participants\",\n",
        "    yaxis_title = \"Participants\",\n",
        "    xaxis_title = \"Community\")"
      ],
      "execution_count": null,
      "outputs": []
    },
    {
      "cell_type": "markdown",
      "metadata": {
        "id": "bYxkoCkdvMvl"
      },
      "source": [
        "We have more comparable sample size with State of Dev syrvey having a (+100) more answers than the Kaggle survey from Moroccan memebers. This suggsest that **the core data community contributing to both surveys has a very similar profile** We will explore this aspects further down"
      ]
    },
    {
      "cell_type": "markdown",
      "metadata": {
        "id": "NY6MDEwPvV4i"
      },
      "source": [
        "__The Age profile:__<br>\n",
        "Harmonizing the Age brackest between both surveys"
      ]
    },
    {
      "cell_type": "code",
      "metadata": {
        "id": "kLuyHBftvN5M"
      },
      "source": [
        "SOD_Morocco_Qst.Age[\"choices\"], Kaggle_Full_Morocco.Age.unique()"
      ],
      "execution_count": null,
      "outputs": []
    },
    {
      "cell_type": "code",
      "metadata": {
        "id": "dIQpjMPLvUAH"
      },
      "source": [
        "SOD_Morocco_Data_Age = SOD_Morocco_Data.groupby([\"Age\"], as_index=False).count()\n",
        "SOD_Morocco_Full_Age = SOD_Morocco_Full.groupby([\"Age\"], as_index=False).count()\n",
        "Kaggle_Full_Morocco_Age = Kaggle_Full_Morocco.groupby([\"Age\"], as_index=False).count()"
      ],
      "execution_count": null,
      "outputs": []
    },
    {
      "cell_type": "code",
      "metadata": {
        "id": "ECYCZ6JGveAQ"
      },
      "source": [
        "df_Age = pd.DataFrame({'Less than 20': \n",
        "                       [SOD_Morocco_Full_Age[\"userId\"][0], SOD_Morocco_Data_Age[\"userId\"][0], Kaggle_Full_Morocco_Age[\"Time\"][0]],\n",
        "                       '20 - 24 years':\n",
        "                       [SOD_Morocco_Full_Age[\"userId\"][1], SOD_Morocco_Data_Age[\"userId\"][1], Kaggle_Full_Morocco_Age[\"Time\"][1]],\n",
        "                       '25 - 29 years':\n",
        "                       [SOD_Morocco_Full_Age[\"userId\"][2], SOD_Morocco_Data_Age[\"userId\"][2], Kaggle_Full_Morocco_Age[\"Time\"][2]],\n",
        "                       '30 - 34 years' :\n",
        "                       [SOD_Morocco_Full_Age[\"userId\"][3], SOD_Morocco_Data_Age[\"userId\"][3], Kaggle_Full_Morocco_Age[\"Time\"][3]],\n",
        "                       '35 - 39 years':\n",
        "                       [SOD_Morocco_Full_Age[\"userId\"][4], SOD_Morocco_Data_Age[\"userId\"][4], Kaggle_Full_Morocco_Age[\"Time\"][4]],\n",
        "                       '40 years and older':\n",
        "                       [SOD_Morocco_Full_Age[\"userId\"][5], SOD_Morocco_Data_Age[\"userId\"][5], Kaggle_Full_Morocco_Age[\"Time\"][5]],\n",
        "         }, index=['SOD_Full', 'SOD_Data', 'Kaggle'])\n",
        "df_Age = 100*df_Age.transpose()/df_Age.transpose().sum() \n",
        "display(df_Age)"
      ],
      "execution_count": null,
      "outputs": []
    },
    {
      "cell_type": "code",
      "metadata": {
        "id": "Q3dU5q5UvkV7"
      },
      "source": [
        "fig = go.Figure()\n",
        "\n",
        "for i in df_Age.columns:\n",
        "    data = df_Age[i]\n",
        "    name = i\n",
        "    fig.add_trace(go.Scatter(x = df_Age.index , y=data,\n",
        "                             opacity=0.8,\n",
        "                             name = name)) \n",
        "\n",
        "fig.update_layout( title='Age Percentages (%)')\n",
        "fig.show()"
      ],
      "execution_count": null,
      "outputs": []
    },
    {
      "cell_type": "code",
      "metadata": {
        "id": "HJiBHwrAvpUM"
      },
      "source": [
        "fig = go.Figure()\n",
        "fig.add_pie(values=df_Age['Kaggle'],\n",
        "            labels = df_Age.index,\n",
        "            name = \"Kaggle\", title = \"Kaggle\", \n",
        "            hole = 0.6, direction ='clockwise')\n",
        "\n",
        "fig.update_layout(title_text=\"Pie Chart Age brackets repartition\" )\n",
        "fig.update_traces(textinfo='percent+label')\n",
        "fig.show()"
      ],
      "execution_count": null,
      "outputs": []
    },
    {
      "cell_type": "code",
      "metadata": {
        "id": "_PcCK0RDwM7l"
      },
      "source": [
        "fig = go.Figure()\n",
        "fig.add_pie(values=df_Age[\"SOD_Full\"],\n",
        "            labels = df_Age.index,\n",
        "            name = \"SOD_Full\", title = \"SDO_Full\",\n",
        "            hole = 0.6, direction ='clockwise')\n",
        "fig.update_layout(title_text=\"Pie Chart Age brackets repartition\" )\n",
        "\n",
        "fig.show()  "
      ],
      "execution_count": null,
      "outputs": []
    },
    {
      "cell_type": "code",
      "metadata": {
        "id": "UrcL7YJ8wQns"
      },
      "source": [
        "fig = go.Figure()\n",
        "fig.add_pie(values=df_Age[\"SOD_Data\"],\n",
        "            labels = df_Age.index,\n",
        "            name = \"SOD_Data\", title = \"SOD_Data\",\n",
        "            hole = 0.6, direction ='clockwise')\n",
        "fig.update_layout(title_text=\"Pie Chart Age brackets repartition\" )\n",
        "\n",
        "fig.show()"
      ],
      "execution_count": null,
      "outputs": []
    },
    {
      "cell_type": "markdown",
      "metadata": {
        "id": "J-z5POb-wXHj"
      },
      "source": [
        "2 Main observations emerge: - The Kaggle participants are slightly older: the age range [35++] represents more than 20% - The core data community in the State of Dev survey is more younger than the genral population: the age range [--24] represents 70% vs 50% in the full SOD **Hint:** you can click on each age bracket in the legend to show/hide the individual group"
      ]
    },
    {
      "cell_type": "code",
      "metadata": {
        "id": "GK4Zv8grwY0T"
      },
      "source": [
        "del SOD_Morocco_Data_Age, SOD_Morocco_Full_Age, Kaggle_Full_Morocco_Age"
      ],
      "execution_count": null,
      "outputs": []
    },
    {
      "cell_type": "markdown",
      "metadata": {
        "id": "r1UujRggwfjn"
      },
      "source": [
        "__Gender Profile__"
      ]
    },
    {
      "cell_type": "code",
      "metadata": {
        "id": "gk5Ck3y9wblA"
      },
      "source": [
        "SOD_Morocco_Qst.Gender[\"choices\"], Kaggle_Full_Morocco.Gender.unique()"
      ],
      "execution_count": null,
      "outputs": []
    },
    {
      "cell_type": "code",
      "metadata": {
        "id": "vJ8K-xWmwlFZ"
      },
      "source": [
        "SOD_Morocco_Data_Gender = SOD_Morocco_Data.groupby([\"Gender\"], as_index=False).count()\n",
        "SOD_Morocco_Full_Gender = SOD_Morocco_Full.groupby([\"Gender\"], as_index=False).count()\n",
        "Kaggle_Full_Morocco_Gender = Kaggle_Full_Morocco.groupby([\"Gender\"], as_index=False).count()"
      ],
      "execution_count": null,
      "outputs": []
    },
    {
      "cell_type": "code",
      "metadata": {
        "id": "YYqS69yHwqpZ"
      },
      "source": [
        "df_Gender = pd.DataFrame({'Male':\n",
        "                          [SOD_Morocco_Data_Gender[\"userId\"][1],\n",
        "                           SOD_Morocco_Full_Gender[\"userId\"][1], \n",
        "                           Kaggle_Full_Morocco_Gender[\"Time\"][0]],\n",
        "                          'Female': \n",
        "                          [SOD_Morocco_Data_Gender[\"userId\"][0],\n",
        "                           SOD_Morocco_Full_Gender[\"userId\"][0], \n",
        "                           Kaggle_Full_Morocco_Gender[\"Time\"][2]],\n",
        "                         }, index=['SOD_Data', 'SOD_Full', 'Kaggle'])\n",
        "df_Gender"
      ],
      "execution_count": null,
      "outputs": []
    },
    {
      "cell_type": "code",
      "metadata": {
        "id": "FQLTzAGfwuh1"
      },
      "source": [
        "fig = make_subplots(rows=1, cols=3, horizontal_spacing=0.15,\n",
        "                    specs=[[{\"type\": \"domain\"}, {\"type\": \"domain\"}, {\"type\": \"domain\"}]])\n",
        "\n",
        "fig.add_pie(values=df_Gender.transpose()['Kaggle'],\n",
        "            row=1, col=1, labels = df_Gender.columns,\n",
        "            name = \"Kaggle\", title = \"Kaggle\", \n",
        "            hole = 0.6, direction ='clockwise'),\n",
        "\n",
        "fig.add_pie(values=df_Gender.transpose()[\"SOD_Full\"],\n",
        "            row=1, col=2, labels = df_Gender.columns,\n",
        "            name = \"SOD_Full\", title = \"SDO_Full\", \n",
        "            hole = 0.6, direction ='clockwise'),\n",
        "fig.add_pie(values=df_Gender.transpose()[\"SOD_Data\"],\n",
        "            row=1, col=3, labels = df_Gender.columns,\n",
        "            name = \"SOD_Data\", title = \"SOD_Data\", \n",
        "            hole = 0.6, direction ='clockwise'),\n",
        "    \n",
        "\n",
        "fig.update_layout(title_text=\"Pie Chart Gender repartition\" )\n",
        "fig.show()"
      ],
      "execution_count": null,
      "outputs": []
    },
    {
      "cell_type": "markdown",
      "metadata": {
        "id": "h9jBzWZ-wx9Z"
      },
      "source": [
        "Males are predominant as it is a general observation in the Tech field. Looking more closely, **the core data profiles in the State of Dev survey are** **silghtly more diverse with a ~30% female members, compared to 15% in the general survey**"
      ]
    },
    {
      "cell_type": "code",
      "metadata": {
        "id": "Nv81WYdIwyye"
      },
      "source": [
        "del Kaggle_Full_Morocco_Gender, SOD_Morocco_Data_Gender, SOD_Morocco_Full_Gender"
      ],
      "execution_count": null,
      "outputs": []
    },
    {
      "cell_type": "markdown",
      "metadata": {
        "id": "DDKvZuyQw3ZH"
      },
      "source": [
        "__Job Titles Profile__\n",
        "The Kaggle and State of Dev surveys have a different definition of Job titles in their design.\n",
        "\n",
        "Kaggle includes \"Not employed\" and \"Students\" as a fulltime job titles, wheras SOD addreses those categories in a second question about \"Employed status\" so we should filter for that first."
      ]
    },
    {
      "cell_type": "code",
      "metadata": {
        "id": "N36wfK-Bw1r6"
      },
      "source": [
        "Roles_dict = {'Management Roles':\n",
        "              ['Product/Project Manager', 'Engineering manager',\n",
        "               'Marketing or sales professional', 'Product manager',\n",
        "               'Senior executive/VP'],\n",
        "              'Analysis Roles' : \n",
        "              ['Business Analyst', 'Data or business analyst', 'Data Analyst'],\n",
        "              'Developement Roles':\n",
        "              ['Software Engineer', 'Developer, QA, or test',\n",
        "               'Developer, back-end', 'Developer, desktop applications',\n",
        "               'Developer, embedded applications or devices',\n",
        "               'Developer, front-end', 'Developer, full-stack',\n",
        "               'Developer, game or graphics', 'Developer, mobile'],\n",
        "              'Statistician or Research Scientist':\n",
        "              ['Research Scientist', 'Statistician', 'Academic researcher',\n",
        "               'Educator', 'Scientist'],\n",
        "              'Students': \n",
        "              ['Student'],\n",
        "              'Unemployed':\n",
        "              ['Looking for work', 'Currently not employed'],\n",
        "              'Other':\n",
        "              ['Other', 'Engineer, site reliability',  'Designer',\n",
        "               'System administrator', 'DevOps specialist'],\n",
        "              'Data Roles':\n",
        "              ['Data Engineer', 'DBA/Database Engineer', 'Data Scientist',\n",
        "               'Machine Learning Engineer', 'Data scientist or machine learning specialist',\n",
        "               'Engineer, data', 'Database administrator']\n",
        "}\n",
        "Roles_dict_reverse = {k: oldk for oldk, oldv in Roles_dict.items() for k in oldv}"
      ],
      "execution_count": null,
      "outputs": []
    },
    {
      "cell_type": "code",
      "metadata": {
        "id": "bI9Ev8P1xAO7"
      },
      "source": [
        "SOD_Morocco_Full_Status = SOD_Morocco_Full.groupby(['Employment_Status']).count()\n",
        "Kaggle_Full_Morocco_Job = Kaggle_Full_Morocco.groupby(\"Job_Title\").count()\n",
        "SOD_Morocco_Full_Job = SOD_Morocco_Full[SOD_Morocco_Full.Employment_Status.isin(['Employed full-time', 'Freelancer, or self-employed', 'Employed part-time'])].groupby(\"Job_Title\").count()"
      ],
      "execution_count": null,
      "outputs": []
    },
    {
      "cell_type": "code",
      "metadata": {
        "id": "r7rNpp2jxDh4"
      },
      "source": [
        "SOD_Morocco_Full_Status.index = SOD_Morocco_Full_Status.index.map(Roles_dict_reverse)\n",
        "SOD_Morocco_Full_Job.index = SOD_Morocco_Full_Job.index.map(Roles_dict_reverse)\n",
        "Kaggle_Full_Morocco_Job.index = Kaggle_Full_Morocco_Job.index.map(Roles_dict_reverse)\n",
        "Kaggle_Full_Morocco_Job.head()"
      ],
      "execution_count": null,
      "outputs": []
    },
    {
      "cell_type": "code",
      "metadata": {
        "id": "r4whoYqsxH3T"
      },
      "source": [
        "SOD_Morocco_Full_Status = SOD_Morocco_Full_Status.groupby(SOD_Morocco_Full_Status.index).sum()\n",
        "SOD_Morocco_Full_Job = SOD_Morocco_Full_Job.groupby(SOD_Morocco_Full_Job.index).sum()\n",
        "Kaggle_Full_Morocco_Job = Kaggle_Full_Morocco_Job.groupby(Kaggle_Full_Morocco_Job.index).sum()\n",
        "Kaggle_Full_Morocco_Job.head()"
      ],
      "execution_count": null,
      "outputs": []
    },
    {
      "cell_type": "code",
      "metadata": {
        "id": "bmCpREjXxLWN"
      },
      "source": [
        "df_Job_Titles = pd.DataFrame()\n",
        "df_Job_Titles[\"Kaggle\"] = Kaggle_Full_Morocco_Job[\"Time\"].transpose()\n",
        "df_Job_Titles[\"SOD\"] = SOD_Morocco_Full_Job[\"userId\"]\n",
        "df_Job_Titles[\"SOD\"][-2:] = SOD_Morocco_Full_Status[\"userId\"][-2:]\n",
        "display(df_Job_Titles)"
      ],
      "execution_count": null,
      "outputs": []
    },
    {
      "cell_type": "code",
      "metadata": {
        "id": "B2r8rgA1xQah"
      },
      "source": [
        "figure = go.Figure()\n",
        "\n",
        "axis = list(df_Job_Titles.index)\n",
        "axis.append(axis[0])\n",
        "for col in df_Job_Titles:\n",
        "    plot_data = df_Job_Titles[col].tolist()\n",
        "    plot_data = (np.array(plot_data) / sum(plot_data) * 100).tolist()\n",
        "    plot_data.append(plot_data[0])  \n",
        "    figure.add_trace(go.Scatterpolar(r=plot_data,\n",
        "                                     theta=axis,\n",
        "                                     mode='lines',\n",
        "                                     showlegend=True,\n",
        "                                     name=col,\n",
        "                                     hovertemplate='%{r:0.0f}%',\n",
        "                                     opacity=0.8,\n",
        "                                     line_shape='spline',\n",
        "                                     line_smoothing=0.9,\n",
        "                                     line_width=2))\n",
        "    \n",
        "figure.update_layout(polar_radialaxis_layer='below traces',\n",
        "                     polar_radialaxis_range=(0,50), \n",
        "                     polar_radialaxis_tickvals=[10, 20, 30],\n",
        "                     polar_radialaxis_ticktext=['10%', '20%', '30%'],\n",
        "                     title='Job Title'\n",
        ")\n",
        "\n",
        "figure.show()"
      ],
      "execution_count": null,
      "outputs": []
    },
    {
      "cell_type": "code",
      "metadata": {
        "id": "CDz2I8JwxVC8"
      },
      "source": [
        "axis = list(df_Job_Titles.index)\n",
        "plot_data = (100* df_Job_Titles /df_Job_Titles.sum())\n",
        "\n",
        "figure = make_subplots(rows=1, cols=2, horizontal_spacing=0.15,\n",
        "                    specs=[[{\"type\": \"domain\"}, {\"type\": \"domain\"}]])\n",
        "\n",
        "figure.add_pie(values=plot_data[\"SOD\"],\n",
        "            labels = plot_data.index,\n",
        "            row = 1, col = 1,\n",
        "            name = \"SOD\", title = \"SOD\", \n",
        "            hole = 0.6, direction ='clockwise'),\n",
        "figure.add_pie(values=plot_data[\"Kaggle\"],\n",
        "            labels = plot_data.index,\n",
        "            row = 1, col = 2,\n",
        "            name = \"Kaggle\", title = \"Kaggle\", \n",
        "            hole = 0.6, direction ='clockwise'),    \n",
        "\n",
        "figure.update_layout(title_text=\"Pie Chart Job Titles repartition\" )\n",
        "figure.show()"
      ],
      "execution_count": null,
      "outputs": []
    },
    {
      "cell_type": "markdown",
      "metadata": {
        "id": "S_A8gylWxo76"
      },
      "source": [
        "- The first visualisation shows a **polarization efftect in the State of Dev survey** : 46% of particiapnts occupie devlopement roles and the next 28% arestill students. This is confirmed in the second vizualisation. - On the Kaggle survey, **60% of the Morccan commuity is split between Students and the 3 data roles** (Data science, Data Engineering, ML), Statistiscian and research scienctist are also well represented in the Kaggle survey compared to SOD. - Another intersting categorie is the **Unemployed** : ~13% in the State od Dev survey self reported as unemployed, this number drops to ~6.5% among the Kaggle survey participants. - Keeping in mind that both surveys were done during the **Covid-19** pandemic, it will be very intersting to keep track of these stats in future surveys as **an indicator not only for the pandimic effect, but also for the evolotion of the Moroccan IT job market toward becoming Data driven.**"
      ]
    },
    {
      "cell_type": "markdown",
      "metadata": {
        "id": "PA8SxwnuxtV2"
      },
      "source": [
        "How much salary?"
      ]
    },
    {
      "cell_type": "code",
      "metadata": {
        "id": "o8dYTMZpxqKI"
      },
      "source": [
        "data_x = [100*SOD_Morocco_Data.Salary_Range_DH.isna().sum()/SOD_Morocco_Data.shape[0],\n",
        " 100*SOD_Morocco_Full.Salary_Range_DH.isna().sum()/SOD_Morocco_Full.shape[0],\n",
        " 100*Kaggle_Full_Morocco.Q24.isna().sum()/Kaggle_Full_Morocco.shape[0]]\n",
        "data_x = [ '%.2f' % elem for elem in data_x]"
      ],
      "execution_count": null,
      "outputs": []
    },
    {
      "cell_type": "code",
      "metadata": {
        "id": "ja0P9jCXxynU"
      },
      "source": [
        "fig = px.bar( x=data_x,\n",
        "    y=['SOD_Data', 'SOD_Full', 'Kaggle'],\n",
        "    text=data_x, orientation='h',\n",
        "            color =['SOD_Data', 'SOD_Full', 'Kaggle'])\n",
        "\n",
        "fig.update_layout(\n",
        "    title = \"How many participants provided Salary range information?\",\n",
        "    yaxis_title = \"\",\n",
        "    xaxis_title = \"% of answers recieved\")\n",
        "fig.update_xaxes(range=[0, 100])\n",
        "fig.show()"
      ],
      "execution_count": null,
      "outputs": []
    },
    {
      "cell_type": "markdown",
      "metadata": {
        "id": "b_6stxo8x3O7"
      },
      "source": [
        "The topic of Salary range is very informative about the state of the IT field, but it remains sensitve to most participants: only ~40% of SOD population chose to report salary range information, the percentage slightly improves to ~55% in the core SOD data group, which is the same level reported on Kaggel by moroccans."
      ]
    },
    {
      "cell_type": "code",
      "metadata": {
        "id": "1PIqTyODx4DZ"
      },
      "source": [
        "Salary_range_dict = {'10 000 - 20 000':\n",
        "                     ['10 000 - 13 000', '13 000 - 15 000', '1,000-1,999', '15 000 - 20 000'],\n",
        "                     '20 000 - 40 000':\n",
        "                     ['20 000 - 25 000', '> 25 000', '2,000-2,999', '3,000-3,999'],\n",
        "                     '< 10 000':\n",
        "                     ['< 6 000', '8 000 - 10 000', '6 000 - 8 000', '$0-999'],\n",
        "                     'Outliers':\n",
        "                     ['30,000-39,999', '40,000-49,999', '5,000-7,499',\n",
        "                      '7,500-9,999', '80,000-89,999', '40,000-49,999' ]\n",
        "                    }\n",
        "Salary_range_dict_reverse = {k: oldk for oldk, oldv in Salary_range_dict.items() for k in oldv}"
      ],
      "execution_count": null,
      "outputs": []
    },
    {
      "cell_type": "code",
      "metadata": {
        "id": "mMeERdVBx6ni"
      },
      "source": [
        "SOD_Morocco_Data_Salary = SOD_Morocco_Data[SOD_Morocco_Data.Salary_Range_DH.isna()==False].groupby(SOD_Morocco_Data.Salary_Range_DH).count()\n",
        "SOD_Morocco_Full_Salary = SOD_Morocco_Full[SOD_Morocco_Full.Salary_Range_DH.isna()==False].groupby(SOD_Morocco_Full.Salary_Range_DH).count()\n",
        "Kaggle_Full_Morocco_Salary = Kaggle_Full_Morocco[Kaggle_Full_Morocco.Q24.isna()==False].groupby(Kaggle_Full_Morocco.Q24).count()"
      ],
      "execution_count": null,
      "outputs": []
    },
    {
      "cell_type": "code",
      "metadata": {
        "id": "4vDQIEopx-px"
      },
      "source": [
        "figure = make_subplots(rows=1, cols=2, horizontal_spacing=0.15,\n",
        "                    specs=[[{\"type\": \"domain\"}, {\"type\": \"domain\"}]])\n",
        "\n",
        "figure.add_pie(values=SOD_Morocco_Data_Salary[\"userId\"],\n",
        "            labels = SOD_Morocco_Data_Salary.index,\n",
        "            row = 1, col = 1,\n",
        "            name = \"SOD_Data\", title = \"SOD_Data\", \n",
        "            hole = 0.6, direction ='clockwise'), \n",
        "figure.add_pie(values=SOD_Morocco_Full_Salary[\"userId\"],\n",
        "            labels = SOD_Morocco_Full_Salary.index,\n",
        "            row = 1, col = 2,\n",
        "            name = \"SOD_Full\", title = \"SOD_Full\", \n",
        "            hole = 0.6, direction ='clockwise')\n",
        "\n",
        "figure.update_layout(title_text=\"Pie Chart Salary(DH) range repartition: State of Dev data\" )\n",
        "figure.show()"
      ],
      "execution_count": null,
      "outputs": []
    },
    {
      "cell_type": "code",
      "metadata": {
        "id": "-5pabRFjyDuH"
      },
      "source": [
        "SOD_Morocco_Full_Salary.index = SOD_Morocco_Full_Salary.index.map(Salary_range_dict_reverse)\n",
        "SOD_Morocco_Data_Salary.index = SOD_Morocco_Data_Salary.index.map(Salary_range_dict_reverse)\n",
        "Kaggle_Full_Morocco_Salary.index = Kaggle_Full_Morocco_Salary.index.map(Salary_range_dict_reverse)"
      ],
      "execution_count": null,
      "outputs": []
    },
    {
      "cell_type": "code",
      "metadata": {
        "id": "pNcsJ1NAyFx_"
      },
      "source": [
        "SOD_Morocco_Full_Salary = SOD_Morocco_Full_Salary.groupby(SOD_Morocco_Full_Salary.index).sum()\n",
        "SOD_Morocco_Data_Salary = SOD_Morocco_Data_Salary.groupby(SOD_Morocco_Data_Salary.index).sum()\n",
        "Kaggle_Full_Morocco_Salary = Kaggle_Full_Morocco_Salary.groupby(Kaggle_Full_Morocco_Salary.index).sum()"
      ],
      "execution_count": null,
      "outputs": []
    },
    {
      "cell_type": "code",
      "metadata": {
        "id": "0ZggsTa8yH-Y"
      },
      "source": [
        "df_Salary = pd.DataFrame()\n",
        "df_Salary[\"Kaggle\"] = Kaggle_Full_Morocco_Salary[\"Time\"]\n",
        "df_Salary[\"SOD_Full\"] = SOD_Morocco_Full_Salary[\"userId\"]\n",
        "df_Salary[\"SOD_Data\"] = SOD_Morocco_Data_Salary[\"userId\"]\n",
        "display(df_Salary)"
      ],
      "execution_count": null,
      "outputs": []
    },
    {
      "cell_type": "code",
      "metadata": {
        "id": "e9d1EvQJyLtu"
      },
      "source": [
        "axis = list(df_Job_Titles.index)\n",
        "\n",
        "figure = make_subplots(rows=1, cols=3, horizontal_spacing=0.15,\n",
        "                    specs=[[{\"type\": \"domain\"}, {\"type\": \"domain\"}, {\"type\": \"domain\"}]])\n",
        "\n",
        "figure.add_pie(values=df_Salary[\"SOD_Data\"],\n",
        "            labels = df_Salary.index,\n",
        "            row = 1, col = 1,\n",
        "            name = \"SOD_Data\", title = \"SOD_Data\", \n",
        "            hole = 0.6, direction ='clockwise'),\n",
        "figure.add_pie(values=df_Salary[\"Kaggle\"],\n",
        "            labels = df_Salary.index,\n",
        "            row = 1, col = 2,\n",
        "            name = \"Kaggle\", title = \"Kaggle\", \n",
        "            hole = 0.6, direction ='clockwise'),    \n",
        "figure.add_pie(values=df_Salary[\"SOD_Full\"],\n",
        "            labels = df_Salary.index,\n",
        "            row = 1, col = 3,\n",
        "            name = \"SOD_Full\", title = \"SOD_Full\", \n",
        "            hole = 0.6, direction ='clockwise')\n",
        "\n",
        "figure.update_layout(title_text=\"Pie Chart Salary(DH) range repartition: Overview\" )\n",
        "figure.show()"
      ],
      "execution_count": null,
      "outputs": []
    },
    {
      "cell_type": "markdown",
      "metadata": {
        "id": "CMv4Y5OsyPjk"
      },
      "source": [
        "**Note:** The Kaggle survey proposed values for salary range in USD while State of Dev in Moroccan DH, we harmonize both with a scale of **1 USD = 10 DH**. Some values in the Kaggle survey are designed as **outliers**, the partipants probably didn't account for the currency difference. - The State of Dev salary data show more details in the salary brackets. As an overview, **~50% of the Moroccan IT Talents earns up to 1K (USD) per month**, the core data field is **slightly more rewarding** **with ~65% of its talent earning beyond the 1K (USD) threshhold.**"
      ]
    },
    {
      "cell_type": "markdown",
      "metadata": {
        "id": "Uz0PwomwySxC"
      },
      "source": [
        "__Coding Experience__<br>\n",
        "Exploring the IT field maturity"
      ]
    },
    {
      "cell_type": "code",
      "metadata": {
        "id": "cfYItWS-yQkT"
      },
      "source": [
        "SOD_Morocco_Qst.Coding_Experience[\"choices\"], Kaggle_Full_Morocco.Coding_Experience.unique()"
      ],
      "execution_count": null,
      "outputs": []
    },
    {
      "cell_type": "markdown",
      "metadata": {
        "id": "8QTdK6iEyhF5"
      },
      "source": [
        "We start by harmonizing the coding experience brackets in both surveys"
      ]
    },
    {
      "cell_type": "code",
      "metadata": {
        "id": "UaF5KzxYyhpM"
      },
      "source": [
        "Exp_dict = {'0-1 years':\n",
        "              ['Less than 1 year', 'I have never written code', '< 1 years'],\n",
        "              '1-3 years' : \n",
        "              ['1-3 years', '1-2 years'],\n",
        "              '3-5 years':\n",
        "              ['3-5 years'],\n",
        "              '5-10 years': \n",
        "              ['5-10 years'],\n",
        "              'More than 10 years':\n",
        "              ['More than 10', '10-20 years', '20+ years']\n",
        "             }\n",
        "Exp_dict_reverse = {k: oldk for oldk, oldv in Exp_dict.items() for k in oldv}"
      ],
      "execution_count": null,
      "outputs": []
    },
    {
      "cell_type": "code",
      "metadata": {
        "id": "U0uPWyI6ykXi"
      },
      "source": [
        "SOD_Morocco_Full_Exp = SOD_Morocco_Full.groupby(['Coding_Experience']).count()\n",
        "Kaggle_Full_Morocco_Exp = Kaggle_Full_Morocco.groupby(\"Coding_Experience\").count()\n",
        "SOD_Morocco_Data_Exp = SOD_Morocco_Data.groupby(\"Coding_Experience\").count()\n",
        "Kaggle_Full_Morocco_Exp.index = Kaggle_Full_Morocco_Exp.index.map(Exp_dict_reverse)\n",
        "Kaggle_Full_Morocco_Exp = Kaggle_Full_Morocco_Exp.groupby(Kaggle_Full_Morocco_Exp.index).sum()\n",
        "SOD_Morocco_Data_Exp.index = SOD_Morocco_Data_Exp.index.map(Exp_dict_reverse)\n",
        "SOD_Morocco_Full_Exp.index = SOD_Morocco_Full_Exp.index.map(Exp_dict_reverse)\n",
        "Kaggle_Full_Morocco_Exp.head()"
      ],
      "execution_count": null,
      "outputs": []
    },
    {
      "cell_type": "code",
      "metadata": {
        "id": "8oKxxiB9yors"
      },
      "source": [
        "df_Coding_Exp = pd.DataFrame({\"Kaggle\": Kaggle_Full_Morocco_Exp[\"Time\"],\n",
        "                              \"SOD_Data\": SOD_Morocco_Data_Exp[\"userId\"],\n",
        "                              \"SOD_Full\": SOD_Morocco_Full_Exp[\"userId\"]\n",
        "                             })\n",
        "df_Coding_Exp = 100*df_Coding_Exp/df_Coding_Exp.sum()\n",
        "display(df_Coding_Exp)"
      ],
      "execution_count": null,
      "outputs": []
    },
    {
      "cell_type": "code",
      "metadata": {
        "id": "LITmZa4Kysnc"
      },
      "source": [
        "fig = go.Figure(data=[\n",
        "    go.Bar(name=\"Kaggle\", x=df_Coding_Exp.index, y=df_Coding_Exp.Kaggle),\n",
        "    go.Bar(name=\"SOD_Full\", x=df_Coding_Exp.index, y=df_Coding_Exp.SOD_Full),\n",
        "    go.Bar(name=\"SOD_Data\", x=df_Coding_Exp.index, y=df_Coding_Exp.SOD_Data)\n",
        "])\n",
        "\n",
        "# Change the bar mode\n",
        "fig.update_layout(\n",
        "    title='Coding Experience of respondents ',\n",
        "    xaxis_title=None,\n",
        "    yaxis_title='Percentage'\n",
        ")\n",
        "fig.update_yaxes(range=[0, 55])\n",
        "fig.show()\n"
      ],
      "execution_count": null,
      "outputs": []
    },
    {
      "cell_type": "code",
      "metadata": {
        "id": "_7EUu60Myw-V"
      },
      "source": [
        "figure = make_subplots(rows=1, cols=3, horizontal_spacing=0.15,\n",
        "                    specs=[[{\"type\": \"domain\"}, {\"type\": \"domain\"}, {\"type\": \"domain\"}]])\n",
        "\n",
        "figure.add_pie(values=df_Coding_Exp[\"SOD_Full\"],\n",
        "            labels = df_Coding_Exp.index,\n",
        "            row = 1, col = 1,\n",
        "            name = \"SOD_Full\", title = \"SOD_Full\", \n",
        "            hole = 0.6, direction ='clockwise'),\n",
        "figure.add_pie(values=df_Coding_Exp[\"Kaggle\"],\n",
        "            labels = df_Coding_Exp.index,\n",
        "            row = 1, col = 2,\n",
        "            name = \"Kaggle\", title = \"Kaggle\", \n",
        "            hole = 0.6, direction ='clockwise'),\n",
        "figure.add_pie(values=df_Coding_Exp[\"SOD_Data\"],\n",
        "            labels = df_Coding_Exp.index,\n",
        "            row = 1, col = 3,\n",
        "            name = \"SOD_Data\", title = \"SOD_Data\", \n",
        "            hole = 0.6, direction ='clockwise')\n",
        "\n",
        "figure.update_layout(title_text=\"Pie Chart Coding Experience repartition\" )\n",
        "figure.show()"
      ],
      "execution_count": null,
      "outputs": []
    },
    {
      "cell_type": "markdown",
      "metadata": {
        "id": "fW6xg01Oy1EE"
      },
      "source": [
        "- As a general observation **the IT field sampled in both suveys is young in terms of professionnal experience.** - The State of Dev population is predominantly junior: 60% of paricipants in the general survey have less than 3 years of experience, 75% in the selected core data group. - The core data group in SOD is even more junior: **~50% of participants have less than 1 years experience.** One potential reason is **the large number of students that answered the survey, combined with the fact that moroccan universitieshave increased their offerings in Bachelors and Masters diploma that focuse on Data Science and ML.** - The Kaggle survey participants are **slightly more experienced** with ~45% having between 3-5 years of experience and ~65% having less than 5 years."
      ]
    },
    {
      "cell_type": "code",
      "metadata": {
        "id": "N54IOuwOy1y8"
      },
      "source": [
        "del Kaggle_Full_Morocco_Exp, SOD_Morocco_Data_Exp, SOD_Morocco_Full_Exp"
      ],
      "execution_count": null,
      "outputs": []
    }
  ]
}