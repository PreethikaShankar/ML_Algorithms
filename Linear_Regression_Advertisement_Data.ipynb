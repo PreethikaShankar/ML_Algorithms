{
  "nbformat": 4,
  "nbformat_minor": 0,
  "metadata": {
    "colab": {
      "name": "Linear Regression_Advertisement_Data",
      "private_outputs": true,
      "provenance": [],
      "collapsed_sections": [],
      "authorship_tag": "ABX9TyPTzHh/zLP/P5VvkpicrLyF",
      "include_colab_link": true
    },
    "kernelspec": {
      "name": "python3",
      "display_name": "Python 3"
    }
  },
  "cells": [
    {
      "cell_type": "markdown",
      "metadata": {
        "id": "view-in-github",
        "colab_type": "text"
      },
      "source": [
        "<a href=\"https://colab.research.google.com/github/PreethikaShankar/ML_Algorithms/blob/main/Linear_Regression_Advertisement_Data.ipynb\" target=\"_parent\"><img src=\"https://colab.research.google.com/assets/colab-badge.svg\" alt=\"Open In Colab\"/></a>"
      ]
    },
    {
      "cell_type": "markdown",
      "metadata": {
        "id": "--JJTDeD8Bq-"
      },
      "source": [
        "## Table of Content\n",
        "\n",
        "1. [Problem Statement](#section1)<br>\n",
        "2. [Data Loading and Description](#section2)<br>\n",
        "3. [Exploratory Data Analysis](#section3)<br>\n",
        "4. [Introduction to Linear Regression](#section4)<br>\n",
        "    - 4.1 [Linear Regression Equation with Errors in consideration](#section401)<br>\n",
        "        - 4.1.1 [Assumptions of Linear Regression](#sectionassumptions)<br>\n",
        "    - 4.2 [Preparing X and y using pandas](#section402)<br>\n",
        "    - 4.3 [Splitting X and y into training and test datasets](#section403)<br>\n",
        "    - 4.4 [Linear regression in scikit-learn](#section404)<br>\n",
        "    - 4.5 [Interpreting Model Coefficients](#section405)<br>\n",
        "    - 4.3 [Using the Model for Prediction](#section406)<br>\n",
        "5. [Model evaluation](#section5)<br>\n",
        "    - 5.1 [Model evaluation using metrics](#section501)<br>\n",
        "    - 5.2 [Model Evaluation using Rsquared value.](#section502)<br>\n",
        "6. [Feature Selection](#section6)<br>\n",
        "7. [Handling Categorical Features](#section7)<br>"
      ]
    },
    {
      "cell_type": "markdown",
      "metadata": {
        "id": "4RVEbleO71Ql"
      },
      "source": [
        "## 1. Problem Statement\n",
        "\n",
        "__Sales__ (in thousands of units) for a particular product as a __function__ of __advertising budgets__ (in thousands of dollars) for _TV, radio, and newspaper media_. Suppose that in our role as __Data Scientist__ we are asked to suggest.\n",
        "\n",
        "- We want to find a function that given input budgets for TV, radio and newspaper __predicts the output sales__.\n",
        "\n",
        "- Which media __contribute__ to sales?\n",
        "\n",
        "- Visualize the __relationship__ between the _features_ and the _response_ using scatter plots."
      ]
    },
    {
      "cell_type": "markdown",
      "metadata": {
        "id": "pj4fANcR8ciZ"
      },
      "source": [
        "## 2. Data Loading and Description\n",
        "\n",
        "The adverstising dataset captures sales revenue generated with respect to advertisement spends across multiple channles like radio, tv and newspaper.\n",
        "- TV        - Spend on TV Advertisements\n",
        "- Radio     - Spend on radio Advertisements\n",
        "- Newspaper - Spend on newspaper Advertisements\n",
        "- Sales     - Sales revenue generated"
      ]
    },
    {
      "cell_type": "markdown",
      "metadata": {
        "id": "Mf7YlGUe8pv8"
      },
      "source": [
        "##__Importing Packages__"
      ]
    },
    {
      "cell_type": "code",
      "metadata": {
        "id": "NiJjBa_f8urL"
      },
      "source": [
        "import pandas as pd\n",
        "import seaborn as sns\n",
        "import matplotlib.pyplot as plt\n",
        "import numpy as np\n",
        "\n",
        "from sklearn import metrics\n",
        "\n",
        "# allow plots to appear directly in the notebook\n",
        "%matplotlib inline"
      ],
      "execution_count": null,
      "outputs": []
    },
    {
      "cell_type": "markdown",
      "metadata": {
        "id": "UG9_SvxtCS2q"
      },
      "source": [
        "##__Importing the Dataset__"
      ]
    },
    {
      "cell_type": "code",
      "metadata": {
        "id": "xT-KQSRWCQF3"
      },
      "source": [
        "data = pd.read_csv('https://raw.githubusercontent.com/insaid2018/Term-2/master/CaseStudy/Advertising.csv', index_col=0)\n",
        "data.head()"
      ],
      "execution_count": null,
      "outputs": []
    },
    {
      "cell_type": "markdown",
      "metadata": {
        "id": "BRsoLNfVCm5X"
      },
      "source": [
        "What are the **features**?\n",
        "- TV: advertising dollars spent on TV for a single product in a given market (in thousands of dollars)\n",
        "- Radio: advertising dollars spent on Radio\n",
        "- Newspaper: advertising dollars spent on Newspaper\n",
        "\n",
        "What is the **response**?\n",
        "- Sales: sales of a single product in a given market (in thousands of widgets)"
      ]
    },
    {
      "cell_type": "markdown",
      "metadata": {
        "id": "wTyHkfPKC4Gi"
      },
      "source": [
        "## 3. Exploratory Data Analysis"
      ]
    },
    {
      "cell_type": "code",
      "metadata": {
        "id": "lOixgdQpC9py"
      },
      "source": [
        "data.shape"
      ],
      "execution_count": null,
      "outputs": []
    },
    {
      "cell_type": "code",
      "metadata": {
        "id": "Lqdek_VPDA4e"
      },
      "source": [
        "data.info()"
      ],
      "execution_count": null,
      "outputs": []
    },
    {
      "cell_type": "code",
      "metadata": {
        "id": "l5pXcIHQDF2q"
      },
      "source": [
        "data.describe()"
      ],
      "execution_count": null,
      "outputs": []
    },
    {
      "cell_type": "markdown",
      "metadata": {
        "id": "HaY60eRmDV-K"
      },
      "source": [
        "There are 200 **observations**, and thus 200 markets in the dataset."
      ]
    },
    {
      "cell_type": "markdown",
      "metadata": {
        "id": "PkELpCO7Daa1"
      },
      "source": [
        "__Distribution of Features__"
      ]
    },
    {
      "cell_type": "code",
      "metadata": {
        "id": "qtP2GbvcDRRK"
      },
      "source": [
        "f, axes = plt.subplots(2,2,sharex=True, figsize = (7,7)) ## creating vector space\n",
        "sns.despine(left=True) ## giving y axis plot\n",
        "\n",
        "sns.distplot(data.sales, color=\"b\", ax=axes[0,0]) ## plots for distribution, axes\n",
        "\n",
        "sns.distplot(data.TV, color=\"r\", ax=axes[0,1])\n",
        "\n",
        "sns.distplot(data.radio, color=\"g\", ax=axes[1,0])\n",
        "\n",
        "sns.distplot(data.newspaper, color=\"m\", ax=axes[1,1])\n"
      ],
      "execution_count": null,
      "outputs": []
    },
    {
      "cell_type": "markdown",
      "metadata": {
        "id": "B9sbHDWVI45P"
      },
      "source": [
        "__Observations__<br/>\n",
        "_Sales_ seems to be __normal distribution__. Spending on _newspaper advertisement_ seems to be __right skewed__. Most of the spends on _newspaper_ is __fairly low__ where are spend on _radio and tv_ seems be __uniform distribution__. Spends on _tv_ are __comparatively higher__ then spend on _radio and newspaper_."
      ]
    },
    {
      "cell_type": "markdown",
      "metadata": {
        "id": "bkTgLWW3KUXP"
      },
      "source": [
        "### Is there a relationship between sales and spend various advertising channels?"
      ]
    },
    {
      "cell_type": "code",
      "metadata": {
        "id": "POeeqeoAKWd4"
      },
      "source": [
        "JG1 = sns.jointplot(\"newspaper\", \"sales\", data=data, kind='reg')\n",
        "JG2 = sns.jointplot(\"radio\", \"sales\", data=data, kind='reg')\n",
        "JG3 = sns.jointplot(\"TV\", \"sales\", data=data, kind='reg')\n",
        "\n",
        "#subplots migration\n",
        "f = plt.figure()\n",
        "for J in [JG1, JG2,JG3]:\n",
        "    for A in J.fig.axes:\n",
        "        f._axstack.add(f._make_key(A), A)\n"
      ],
      "execution_count": null,
      "outputs": []
    }
  ]
}